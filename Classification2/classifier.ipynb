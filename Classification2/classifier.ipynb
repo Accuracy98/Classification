{
 "cells": [
  {
   "cell_type": "code",
   "execution_count": 1,
   "id": "fbafc9f8-7bef-4535-891f-3ee4aadca507",
   "metadata": {},
   "outputs": [],
   "source": [
    "from sklearn.feature_extraction.text import TfidfVectorizer\n",
    "from sklearn.ensemble import RandomForestClassifier, GradientBoostingClassifier, VotingClassifier\n",
    "from sklearn.linear_model import LogisticRegression\n",
    "from sklearn.naive_bayes import MultinomialNB\n",
    "from sklearn.tree import DecisionTreeClassifier\n",
    "from sklearn.neighbors import KNeighborsClassifier\n",
    "from sklearn.svm import SVC\n",
    "from sklearn.model_selection import GridSearchCV\n",
    "from sklearn.metrics import accuracy_score\n",
    "import numpy as np\n"
   ]
  },
  {
   "cell_type": "code",
   "execution_count": 2,
   "id": "22a47e93-7be9-4111-b285-4049a099d9bb",
   "metadata": {},
   "outputs": [],
   "source": [
    "def loadData(fname):\n",
    "    reviews = []\n",
    "    labels = []\n",
    "    with open(fname, 'r') as f:\n",
    "        for line in f:\n",
    "            review, rating = line.strip().split('\\t')  \n",
    "            reviews.append(review.lower())\n",
    "            labels.append(int(rating))\n",
    "    return reviews, labels"
   ]
  },
  {
   "cell_type": "code",
   "execution_count": 3,
   "id": "b426a5e5-99d9-411b-9694-10c8d86a64ae",
   "metadata": {},
   "outputs": [],
   "source": [
    "# Load training and testing data\n",
    "rev_train, labels_train = loadData('reviews_train.txt')\n",
    "rev_test, labels_test = loadData('reviews_test.txt')\n",
    "\n",
    "# TF-IDF Vectorization\n",
    "tfidf_vectorizer = TfidfVectorizer()\n",
    "tfidf_vectorizer.fit(rev_train)\n",
    "tfidf_train = tfidf_vectorizer.transform(rev_train)\n",
    "tfidf_test = tfidf_vectorizer.transform(rev_test)\n"
   ]
  },
  {
   "cell_type": "code",
   "execution_count": 4,
   "id": "7734f1af-4493-4dbe-b784-512cdbce6d78",
   "metadata": {},
   "outputs": [],
   "source": [
    "# Define classifiers\n",
    "rf_classifier = RandomForestClassifier()\n",
    "gb_classifier = GradientBoostingClassifier()\n",
    "lr_classifier = LogisticRegression()\n",
    "nb_classifier = MultinomialNB()\n",
    "svc_classifier = SVC()"
   ]
  },
  {
   "cell_type": "code",
   "execution_count": 5,
   "id": "b47f91f5-a723-4f01-8627-2fa0a87622e8",
   "metadata": {},
   "outputs": [],
   "source": [
    "param_grid_rf = {\n",
    "    'n_estimators': np.arange(100, 301, 1),\n",
    "    'max_depth': [None, 10, 20]\n",
    "}\n",
    "\n",
    "grid_search_rf = GridSearchCV(rf_classifier, param_grid_rf, cv=5, n_jobs=-1)\n",
    "\n",
    "grid_search_rf.fit(tfidf_train, labels_train)\n",
    "\n",
    "best_rf = grid_search_rf.best_estimator_\n"
   ]
  },
  {
   "cell_type": "code",
   "execution_count": 6,
   "id": "f4b3028a-1cd6-4cdb-af18-4de8c80b6c19",
   "metadata": {},
   "outputs": [],
   "source": [
    "param_grid_gb = {\n",
    "    'n_estimators': np.arange(200, 401, 1),\n",
    "    'learning_rate': np.arange(0.01, 0.21, 0.1)\n",
    "}\n",
    "grid_search_gb = GridSearchCV(gb_classifier, param_grid_gb, cv=5, n_jobs=-1)\n",
    "\n",
    "grid_search_gb.fit(tfidf_train, labels_train)\n",
    "\n",
    "best_gb = grid_search_gb.best_estimator_"
   ]
  },
  {
   "cell_type": "code",
   "execution_count": 7,
   "id": "b28aeff3-0a6c-46ba-9d2c-825f5f564227",
   "metadata": {},
   "outputs": [
    {
     "name": "stderr",
     "output_type": "stream",
     "text": [
      "/Users/accuracy/Developer/BIA 660/.venv/lib/python3.11/site-packages/sklearn/model_selection/_validation.py:425: FitFailedWarning: \n",
      "15 fits failed out of a total of 15015.\n",
      "The score on these train-test partitions for these parameters will be set to nan.\n",
      "If these failures are not expected, you can try to debug them by setting error_score='raise'.\n",
      "\n",
      "Below are more details about the failures:\n",
      "--------------------------------------------------------------------------------\n",
      "15 fits failed with the following error:\n",
      "Traceback (most recent call last):\n",
      "  File \"/Users/accuracy/Developer/BIA 660/.venv/lib/python3.11/site-packages/sklearn/model_selection/_validation.py\", line 729, in _fit_and_score\n",
      "    estimator.fit(X_train, y_train, **fit_params)\n",
      "  File \"/Users/accuracy/Developer/BIA 660/.venv/lib/python3.11/site-packages/sklearn/base.py\", line 1145, in wrapper\n",
      "    estimator._validate_params()\n",
      "  File \"/Users/accuracy/Developer/BIA 660/.venv/lib/python3.11/site-packages/sklearn/base.py\", line 638, in _validate_params\n",
      "    validate_parameter_constraints(\n",
      "  File \"/Users/accuracy/Developer/BIA 660/.venv/lib/python3.11/site-packages/sklearn/utils/_param_validation.py\", line 96, in validate_parameter_constraints\n",
      "    raise InvalidParameterError(\n",
      "sklearn.utils._param_validation.InvalidParameterError: The 'C' parameter of LogisticRegression must be a float in the range (0.0, inf]. Got 0.0 instead.\n",
      "\n",
      "  warnings.warn(some_fits_failed_message, FitFailedWarning)\n",
      "/Users/accuracy/Developer/BIA 660/.venv/lib/python3.11/site-packages/sklearn/model_selection/_search.py:979: UserWarning: One or more of the test scores are non-finite: [       nan        nan        nan ... 0.86411765 0.86411765 0.86411765]\n",
      "  warnings.warn(\n"
     ]
    }
   ],
   "source": [
    "param_grid_lr = {\n",
    "    'C': np.arange(0, 10.01, 0.01),\n",
    "    'max_iter': [100, 500, 1000]\n",
    "}\n",
    "grid_search_lr = GridSearchCV(lr_classifier, param_grid_lr, cv=5, n_jobs=-1)\n",
    "\n",
    "grid_search_lr.fit(tfidf_train, labels_train)\n",
    "\n",
    "best_lr = grid_search_lr.best_estimator_"
   ]
  },
  {
   "cell_type": "code",
   "execution_count": 8,
   "id": "c4060532-0c01-4142-9713-524450890f76",
   "metadata": {},
   "outputs": [
    {
     "name": "stderr",
     "output_type": "stream",
     "text": [
      "/Users/accuracy/Developer/BIA 660/.venv/lib/python3.11/site-packages/sklearn/naive_bayes.py:624: FutureWarning: The default value for `force_alpha` will change to `True` in 1.4. To suppress this warning, manually set the value of `force_alpha`.\n",
      "  warnings.warn(\n",
      "/Users/accuracy/Developer/BIA 660/.venv/lib/python3.11/site-packages/sklearn/naive_bayes.py:633: UserWarning: alpha too small will result in numeric errors, setting alpha = 1.0e-10. Use `force_alpha=True` to keep alpha unchanged.\n",
      "  warnings.warn(\n",
      "/Users/accuracy/Developer/BIA 660/.venv/lib/python3.11/site-packages/sklearn/naive_bayes.py:624: FutureWarning: The default value for `force_alpha` will change to `True` in 1.4. To suppress this warning, manually set the value of `force_alpha`.\n",
      "  warnings.warn(\n",
      "/Users/accuracy/Developer/BIA 660/.venv/lib/python3.11/site-packages/sklearn/naive_bayes.py:633: UserWarning: alpha too small will result in numeric errors, setting alpha = 1.0e-10. Use `force_alpha=True` to keep alpha unchanged.\n",
      "  warnings.warn(\n",
      "/Users/accuracy/Developer/BIA 660/.venv/lib/python3.11/site-packages/sklearn/naive_bayes.py:624: FutureWarning: The default value for `force_alpha` will change to `True` in 1.4. To suppress this warning, manually set the value of `force_alpha`.\n",
      "  warnings.warn(\n",
      "/Users/accuracy/Developer/BIA 660/.venv/lib/python3.11/site-packages/sklearn/naive_bayes.py:633: UserWarning: alpha too small will result in numeric errors, setting alpha = 1.0e-10. Use `force_alpha=True` to keep alpha unchanged.\n",
      "  warnings.warn(\n",
      "/Users/accuracy/Developer/BIA 660/.venv/lib/python3.11/site-packages/sklearn/naive_bayes.py:624: FutureWarning: The default value for `force_alpha` will change to `True` in 1.4. To suppress this warning, manually set the value of `force_alpha`.\n",
      "  warnings.warn(\n",
      "/Users/accuracy/Developer/BIA 660/.venv/lib/python3.11/site-packages/sklearn/naive_bayes.py:633: UserWarning: alpha too small will result in numeric errors, setting alpha = 1.0e-10. Use `force_alpha=True` to keep alpha unchanged.\n",
      "  warnings.warn(\n",
      "/Users/accuracy/Developer/BIA 660/.venv/lib/python3.11/site-packages/sklearn/naive_bayes.py:624: FutureWarning: The default value for `force_alpha` will change to `True` in 1.4. To suppress this warning, manually set the value of `force_alpha`.\n",
      "  warnings.warn(\n",
      "/Users/accuracy/Developer/BIA 660/.venv/lib/python3.11/site-packages/sklearn/naive_bayes.py:633: UserWarning: alpha too small will result in numeric errors, setting alpha = 1.0e-10. Use `force_alpha=True` to keep alpha unchanged.\n",
      "  warnings.warn(\n"
     ]
    }
   ],
   "source": [
    "param_grid_nb = {\n",
    "    'alpha': np.arange(0, 30.1, 0.1)\n",
    "}\n",
    "grid_search_nb = GridSearchCV(nb_classifier, param_grid_nb, cv=5, n_jobs=-1)\n",
    "\n",
    "grid_search_nb.fit(tfidf_train, labels_train)\n",
    "\n",
    "best_nb = grid_search_nb.best_estimator_"
   ]
  },
  {
   "cell_type": "code",
   "execution_count": 9,
   "id": "ed2be8b5-2796-4e87-add2-147fea7f93dd",
   "metadata": {},
   "outputs": [],
   "source": [
    "param_grid_svc = {\n",
    "    'C': np.arange(0.1, 10.1, 0.1)\n",
    "}\n",
    "grid_search_svc = GridSearchCV(svc_classifier, param_grid_svc, cv=5, n_jobs=-1)\n",
    "\n",
    "grid_search_svc.fit(tfidf_train, labels_train)\n",
    "\n",
    "best_svc = grid_search_svc.best_estimator_\n"
   ]
  },
  {
   "cell_type": "code",
   "execution_count": 10,
   "id": "61ea9272-2e18-43b1-b4da-71740a755c81",
   "metadata": {},
   "outputs": [
    {
     "name": "stdout",
     "output_type": "stream",
     "text": [
      "0.8933333333333333\n"
     ]
    }
   ],
   "source": [
    "# Create a Voting Classifier with the best models\n",
    "voting_classifier = VotingClassifier(estimators=[\n",
    "    ('rf', best_rf),\n",
    "    ('gb', best_gb),\n",
    "    ('lr', best_lr),\n",
    "    ('nb', best_nb),\n",
    "    ('svc', best_svc)\n",
    "], voting='hard')\n",
    "\n",
    "# Train the Voting Classifier\n",
    "voting_classifier.fit(tfidf_train, labels_train)\n",
    "\n",
    "# Make predictions on the test set\n",
    "pred = voting_classifier.predict(tfidf_test)\n",
    "\n",
    "# Calculate accuracy\n",
    "accuracy = accuracy_score(pred, labels_test)\n",
    "print(accuracy)\n"
   ]
  },
  {
   "cell_type": "code",
   "execution_count": 12,
   "id": "8bee6374-7a05-4a55-92d6-a74c53b77b96",
   "metadata": {},
   "outputs": [],
   "source": [
    "# # Print the best results for each algorithm\n",
    "# print(\"Random Forest - Best Parameters:\", grid_search_rf.best_params_)\n",
    "# print(\"Random Forest - Best Accuracy:\", grid_search_rf.best_score_)\n",
    "\n",
    "# print(\"\\nGradient Boosting - Best Parameters:\", grid_search_gb.best_params_)\n",
    "# print(\"Gradient Boosting - Best Accuracy:\", grid_search_gb.best_score_)\n",
    "\n",
    "# print(\"\\nLogistic Regression - Best Parameters:\", grid_search_lr.best_params_)\n",
    "# print(\"Logistic Regression - Best Accuracy:\", grid_search_lr.best_score_)\n",
    "\n",
    "# print(\"\\nMultinomial Naive Bayes - Best Parameters:\", grid_search_nb.best_params_)\n",
    "# print(\"Multinomial Naive Bayes - Best Accuracy:\", grid_search_nb.best_score_)\n",
    "\n",
    "# print(\"\\nSupport Vector Classification  - Best Parameters:\", grid_search_svc.best_params_)\n",
    "# print(\"Support Vector Classification  - Best Accuracy:\", grid_search_svc.best_score_)\n",
    "\n",
    "# # Identify the best algorithm\n",
    "# best_algorithm = max([\n",
    "#     (\"Random Forest\", grid_search_rf.best_score_),\n",
    "#     (\"Gradient Boosting\", grid_search_gb.best_score_),\n",
    "#     (\"Logistic Regression\", grid_search_lr.best_score_),\n",
    "#     (\"Multinomial Naive Bayes\", grid_search_nb.best_score_),\n",
    "#     (\"Support Vector Classification\", grid_search_svc.best_score_)\n",
    "# ], key=lambda x: x[1])\n",
    "\n",
    "# # Print the best algorithm and its accuracy\n",
    "# print(f\"\\nBest Algorithm: {best_algorithm[0]} with Accuracy: {best_algorithm[1]:.4f}\")\n"
   ]
  },
  {
   "cell_type": "code",
   "execution_count": null,
   "id": "4a212972-c53c-4fdd-bbab-0e08361997e2",
   "metadata": {},
   "outputs": [],
   "source": []
  }
 ],
 "metadata": {
  "kernelspec": {
   "display_name": "Python 3 (ipykernel)",
   "language": "python",
   "name": "python3"
  },
  "language_info": {
   "codemirror_mode": {
    "name": "ipython",
    "version": 3
   },
   "file_extension": ".py",
   "mimetype": "text/x-python",
   "name": "python",
   "nbconvert_exporter": "python",
   "pygments_lexer": "ipython3",
   "version": "3.11.7"
  }
 },
 "nbformat": 4,
 "nbformat_minor": 5
}
